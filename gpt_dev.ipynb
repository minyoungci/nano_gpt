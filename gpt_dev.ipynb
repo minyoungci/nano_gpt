{
 "cells": [
  {
   "cell_type": "code",
   "execution_count": 1,
   "metadata": {},
   "outputs": [
    {
     "name": "stdout",
     "output_type": "stream",
     "text": [
      "--2024-03-12 22:41:41--  https://raw.githubusercontent.com/karpathy/char-rnn/master/data/tinyshakespeare/input.txt\n",
      "Resolving raw.githubusercontent.com (raw.githubusercontent.com)... 185.199.109.133, 185.199.110.133, 185.199.111.133, ...\n",
      "Connecting to raw.githubusercontent.com (raw.githubusercontent.com)|185.199.109.133|:443... connected.\n",
      "HTTP request sent, awaiting response... 200 OK\n",
      "Length: 1115394 (1.1M) [text/plain]\n",
      "Saving to: ‘input.txt.1’\n",
      "\n",
      "input.txt.1         100%[===================>]   1.06M  1.81MB/s    in 0.6s    \n",
      "\n",
      "2024-03-12 22:41:42 (1.81 MB/s) - ‘input.txt.1’ saved [1115394/1115394]\n",
      "\n"
     ]
    }
   ],
   "source": [
    "# We always start with a dataset to train on. Let's download the tiny shakespeare dataset\n",
    "\n",
    "!wget https://raw.githubusercontent.com/karpathy/char-rnn/master/data/tinyshakespeare/input.txt"
   ]
  },
  {
   "cell_type": "code",
   "execution_count": 59,
   "metadata": {},
   "outputs": [],
   "source": [
    "with open('input.txt', 'r', encoding='utf-8') as f:\n",
    "    text = f.read()"
   ]
  },
  {
   "cell_type": "code",
   "execution_count": 60,
   "metadata": {},
   "outputs": [
    {
     "name": "stdout",
     "output_type": "stream",
     "text": [
      "length of dataset in characters:  1115394\n"
     ]
    }
   ],
   "source": [
    "print(\"length of dataset in characters: \", len(text))"
   ]
  },
  {
   "cell_type": "code",
   "execution_count": 61,
   "metadata": {},
   "outputs": [
    {
     "name": "stdout",
     "output_type": "stream",
     "text": [
      "First Citizen:\n",
      "Before we proceed any further, hear me speak.\n",
      "\n",
      "All:\n",
      "Speak, speak.\n",
      "\n",
      "First Citizen:\n",
      "You are all resolved rather to die than to famish?\n",
      "\n",
      "All:\n",
      "Resolved. resolved.\n",
      "\n",
      "First Citizen:\n",
      "First, you know Caius Marcius is chief enemy to the people.\n",
      "\n",
      "All:\n",
      "We know't, we know't.\n",
      "\n",
      "First Citizen:\n",
      "Let us kill him, and we'll have corn at our own price.\n",
      "Is't a verdict?\n",
      "\n",
      "All:\n",
      "No more talking on't; let it be done: away, away!\n",
      "\n",
      "Second Citizen:\n",
      "One word, good citizens.\n",
      "\n",
      "First Citizen:\n",
      "We are accounted poor citizens, the patricians good.\n",
      "What authority surfeits on would relieve us: if they\n",
      "would yield us but the superfluity, while it were\n",
      "wholesome, we might guess they relieved us humanely;\n",
      "but they think we are too dear: the leanness that\n",
      "afflicts us, the object of our misery, is as an\n",
      "inventory to particularise their abundance; our\n",
      "sufferance is a gain to them Let us revenge this with\n",
      "our pikes, ere we become rakes: for the gods know I\n",
      "speak this in hunger for bread, not in thirst for revenge.\n",
      "\n",
      "\n"
     ]
    }
   ],
   "source": [
    "print(text[:1000])"
   ]
  },
  {
   "cell_type": "code",
   "execution_count": 62,
   "metadata": {},
   "outputs": [
    {
     "name": "stdout",
     "output_type": "stream",
     "text": [
      "\n",
      " !$&',-.3:;?ABCDEFGHIJKLMNOPQRSTUVWXYZabcdefghijklmnopqrstuvwxyz\n",
      "65\n"
     ]
    }
   ],
   "source": [
    "chars = sorted(list(set(text))) # 알파벳, 숫자, 특수문자 등등\n",
    "vocab_size = len(chars)\n",
    "print(''.join(chars))   \n",
    "print(vocab_size)"
   ]
  },
  {
   "cell_type": "code",
   "execution_count": 63,
   "metadata": {},
   "outputs": [
    {
     "name": "stdout",
     "output_type": "stream",
     "text": [
      "[46, 47, 47, 1, 58, 46, 43, 56, 43]\n",
      "hii there\n"
     ]
    }
   ],
   "source": [
    "# 입력값을 토큰화 \n",
    "# 일반적으로 사람들은 sub word encoding을 사용하지만, 단순하게 유지하기 위해 우리가 사용하는 것은 문자 레벨 수준의 토크나이저. \n",
    "\n",
    "stoi = { ch:i for i,ch in enumerate(chars)}\n",
    "itos = { i:ch for i,ch in enumerate(chars)} \n",
    "\n",
    "encode = lambda s: [stoi[c] for c in s]\n",
    "decode = lambda l: ''.join([itos[i] for i in l])\n",
    "\n",
    "# 두 개의 정수를 임의의 문자열로 변환하고 다시 변환하는 것과 같음\n",
    "\n",
    "print(encode('hii there'))\n",
    "print(decode(encode(\"hii there\")))"
   ]
  },
  {
   "cell_type": "code",
   "execution_count": 2,
   "metadata": {},
   "outputs": [
    {
     "ename": "NameError",
     "evalue": "name 'encode' is not defined",
     "output_type": "error",
     "traceback": [
      "\u001b[0;31m---------------------------------------------------------------------------\u001b[0m",
      "\u001b[0;31mNameError\u001b[0m                                 Traceback (most recent call last)",
      "Cell \u001b[0;32mIn[2], line 6\u001b[0m\n\u001b[1;32m      1\u001b[0m \u001b[39m# encode된 텍스트를 파이토치 텐서로 변환합니다.\u001b[39;00m\n\u001b[1;32m      2\u001b[0m \u001b[39m# 아래의 정수 뭉치들은 위에서 input.txt의 [:1000]과 동일한 텍스트를 나타냅니다.\u001b[39;00m\n\u001b[1;32m      4\u001b[0m \u001b[39mimport\u001b[39;00m \u001b[39mtorch\u001b[39;00m \n\u001b[0;32m----> 6\u001b[0m data \u001b[39m=\u001b[39m torch\u001b[39m.\u001b[39mtensor(encode(text), dtype\u001b[39m=\u001b[39mtorch\u001b[39m.\u001b[39mlong)\n\u001b[1;32m      8\u001b[0m \u001b[39mprint\u001b[39m(data\u001b[39m.\u001b[39mshape, data\u001b[39m.\u001b[39mdtype)\n\u001b[1;32m      9\u001b[0m \u001b[39mprint\u001b[39m(data[:\u001b[39m1000\u001b[39m])\n",
      "\u001b[0;31mNameError\u001b[0m: name 'encode' is not defined"
     ]
    }
   ],
   "source": [
    "# encode된 텍스트를 파이토치 텐서로 변환합니다.\n",
    "# 아래의 정수 뭉치들은 위에서 input.txt의 [:1000]과 동일한 텍스트를 나타냅니다.\n",
    "\n",
    "import torch \n",
    "\n",
    "data = torch.tensor(encode(text), dtype=torch.long)\n",
    "\n",
    "print(data.shape, data.dtype)\n",
    "print(data[:1000])"
   ]
  },
  {
   "cell_type": "code",
   "execution_count": 65,
   "metadata": {},
   "outputs": [],
   "source": [
    "# 훈련데이터와 검증 데이터를 분할합시다.\n",
    "\n",
    "n = int(0.9*len(data)) # 90%를 훈련데이터로 사용\n",
    "train_data = data[:n]\n",
    "val_data = data[n:] "
   ]
  },
  {
   "cell_type": "code",
   "execution_count": 66,
   "metadata": {},
   "outputs": [
    {
     "data": {
      "text/plain": [
       "tensor([18, 47, 56, 57, 58,  1, 15, 47, 58])"
      ]
     },
     "execution_count": 66,
     "metadata": {},
     "output_type": "execute_result"
    }
   ],
   "source": [
    "# transformer를 훈련할 때 모든 텍스트를 넣으면 비용이 많이 들기때문에, chunk 단위로 덩어리를 나눠서 사용합니다.\n",
    "\n",
    "block_size = 8\n",
    "train_data[:block_size+1]"
   ]
  },
  {
   "cell_type": "markdown",
   "metadata": {},
   "source": [
    "tensor([18, 47, 56, 57, 58,  1, 15, 47, 58]) 이 값들을 우리가 Transformer에 연결할 때, 이것이 말하는 것은 실제로 동시에 훈련하여 현재의 모든 위치에서 예측을 할 것이라는 것입니다.\n",
    "9개의 문자 덩어리에는 실제로 8개의 개별 예시가 포함되어 있습니다. \n",
    "\n",
    "위의 예시에서 47의 맥락에서 보았을 때 18의 다음에 올 가능성이 높고, 18 47 56의 맥락에서 다음으로 57이 올 수 있다는 것을 알 수 있습니다.  "
   ]
  },
  {
   "cell_type": "code",
   "execution_count": 67,
   "metadata": {},
   "outputs": [
    {
     "name": "stdout",
     "output_type": "stream",
     "text": [
      "when input is tensor([18]) the target is 47\n",
      "when input is tensor([18, 47]) the target is 56\n",
      "when input is tensor([18, 47, 56]) the target is 57\n",
      "when input is tensor([18, 47, 56, 57]) the target is 58\n",
      "when input is tensor([18, 47, 56, 57, 58]) the target is 1\n",
      "when input is tensor([18, 47, 56, 57, 58,  1]) the target is 15\n",
      "when input is tensor([18, 47, 56, 57, 58,  1, 15]) the target is 47\n",
      "when input is tensor([18, 47, 56, 57, 58,  1, 15, 47]) the target is 58\n"
     ]
    }
   ],
   "source": [
    "# x는 Transformer에 대한 입력이며 첫 번째 블록 크기 문자가 될 것입니다. \n",
    "# y는 다음 블록 크기가 됩니다. 문자이므로 1만큼 오프셋됩니다. \n",
    "# 하나의 컨텍스트부터 블록 크기의 컨텍스트까지를 사용하여 여기에 있는 8개의 예제 모두에 대해 훈련합니다.\n",
    "# Transformer는 하나의 컨텍스트를 사용하여 다음 문자를 예측하고, 그 예측을 사용하여 다음 문자를 예측합니다. 이렇게 하면 블록 크기의 모든 것을 예측할 수 있고 블록 크기 이후에는 자르기를 시작합니다.\n",
    "# 왜냐하면 Transformer는 다음 문자를 예측할 때 블록 크기 이상의 입력을 받지 않기 때문입니다. \n",
    "\n",
    "x = train_data[:block_size]\n",
    "y = train_data[1:block_size+1]  \n",
    "\n",
    "for t in range(block_size):\n",
    "    context = x[:t+1]\n",
    "    target = y[t]\n",
    "    print(f\"when input is {context} the target is {target}\")"
   ]
  },
  {
   "cell_type": "code",
   "execution_count": 68,
   "metadata": {},
   "outputs": [
    {
     "name": "stdout",
     "output_type": "stream",
     "text": [
      "inputs:\n",
      "torch.Size([4, 8])\n",
      "tensor([[24, 43, 58,  5, 57,  1, 46, 43],\n",
      "        [44, 53, 56,  1, 58, 46, 39, 58],\n",
      "        [52, 58,  1, 58, 46, 39, 58,  1],\n",
      "        [25, 17, 27, 10,  0, 21,  1, 54]])\n",
      "targets:\n",
      "torch.Size([4, 8])\n",
      "tensor([[43, 58,  5, 57,  1, 46, 43, 39],\n",
      "        [53, 56,  1, 58, 46, 39, 58,  1],\n",
      "        [58,  1, 58, 46, 39, 58,  1, 46],\n",
      "        [17, 27, 10,  0, 21,  1, 54, 39]])\n",
      "---------------------------------\n",
      "when input is [24] the target is 43\n",
      "when input is [24, 43] the target is 58\n",
      "when input is [24, 43, 58] the target is 5\n",
      "when input is [24, 43, 58, 5] the target is 57\n",
      "when input is [24, 43, 58, 5, 57] the target is 1\n",
      "when input is [24, 43, 58, 5, 57, 1] the target is 46\n",
      "when input is [24, 43, 58, 5, 57, 1, 46] the target is 43\n",
      "when input is [24, 43, 58, 5, 57, 1, 46, 43] the target is 39\n",
      "when input is [44] the target is 53\n",
      "when input is [44, 53] the target is 56\n",
      "when input is [44, 53, 56] the target is 1\n",
      "when input is [44, 53, 56, 1] the target is 58\n",
      "when input is [44, 53, 56, 1, 58] the target is 46\n",
      "when input is [44, 53, 56, 1, 58, 46] the target is 39\n",
      "when input is [44, 53, 56, 1, 58, 46, 39] the target is 58\n",
      "when input is [44, 53, 56, 1, 58, 46, 39, 58] the target is 1\n",
      "when input is [52] the target is 58\n",
      "when input is [52, 58] the target is 1\n",
      "when input is [52, 58, 1] the target is 58\n",
      "when input is [52, 58, 1, 58] the target is 46\n",
      "when input is [52, 58, 1, 58, 46] the target is 39\n",
      "when input is [52, 58, 1, 58, 46, 39] the target is 58\n",
      "when input is [52, 58, 1, 58, 46, 39, 58] the target is 1\n",
      "when input is [52, 58, 1, 58, 46, 39, 58, 1] the target is 46\n",
      "when input is [25] the target is 17\n",
      "when input is [25, 17] the target is 27\n",
      "when input is [25, 17, 27] the target is 10\n",
      "when input is [25, 17, 27, 10] the target is 0\n",
      "when input is [25, 17, 27, 10, 0] the target is 21\n",
      "when input is [25, 17, 27, 10, 0, 21] the target is 1\n",
      "when input is [25, 17, 27, 10, 0, 21, 1] the target is 54\n",
      "when input is [25, 17, 27, 10, 0, 21, 1, 54] the target is 39\n"
     ]
    }
   ],
   "source": [
    "torch.manual_seed(1337)\n",
    "\n",
    "batch_size = 4 # transformer의 모든 순방향 역방향 패스를 처리하는 독립 시퀀스의 수 \n",
    "block_size = 8 # 예측을 위한 최대 컨텍스트의 길이\n",
    "\n",
    "def get_batch(split):\n",
    "    data = train_data if split == 'train' else val_data\n",
    "    ix = torch.randint(len(data) - block_size, (batch_size,) ) # 무작위로 선택된 인덱스의 배열 생성 \n",
    "    # 0~len(data) - block_size 까지의 범위에서 정수 무작위 선택. \n",
    "    #(batch_size,)는 함수에게 생성할 무작위 정수의 개수를 알려줍니다.\n",
    "    x = torch.stack([data[i:i+block_size] for i in ix])\n",
    "    y = torch.stack([data[i+1:i+block_size+1] for i in ix])\n",
    "\n",
    "    # 결과적으로, 이 함수는 0부터 len(data) - block_size 범위 내에서 무작위로 batch_size 개수만큼의 정수를 선택\n",
    "    return x, y\n",
    "\n",
    "xb, yb = get_batch('train')\n",
    "\n",
    "print('inputs:')\n",
    "print(xb.shape)\n",
    "print(xb)\n",
    "print('targets:')\n",
    "print(yb.shape)\n",
    "print(yb)\n",
    "\n",
    "print(\"---------------------------------\")\n",
    "\n",
    "for b in range(batch_size):\n",
    "    for t in range(block_size):\n",
    "        context = xb[b, :t+1]\n",
    "        target = yb[b, t]\n",
    "        print(f\"when input is {context.tolist()} the target is {target}\")\n"
   ]
  },
  {
   "cell_type": "code",
   "execution_count": 69,
   "metadata": {},
   "outputs": [
    {
     "name": "stdout",
     "output_type": "stream",
     "text": [
      "torch.Size([32, 65])\n",
      "tensor(4.8786, grad_fn=<NllLossBackward0>)\n",
      "\n",
      "Sr?qP-QWktXoL&jLDJgOLVz'RIoDqHdhsV&vLLxatjscMpwLERSPyao.qfzs$Ys$zF-w,;eEkzxjgCKFChs!iWW.ObzDnxA Ms$3\n"
     ]
    }
   ],
   "source": [
    "# 간단한 신경망 \n",
    "\n",
    "import torch \n",
    "import torch.nn as nn\n",
    "from torch.nn import functional as F \n",
    "torch.manual_seed(1337) \n",
    "\n",
    "class BigramLanguageModel(nn.Module):\n",
    "\n",
    "    def __init__(self, vocab_size):\n",
    "        super().__init__()\n",
    "        # each token directly reads off the logits for the next token from a lookup table\n",
    "        self.token_embedding_table = nn.Embedding(vocab_size, vocab_size) # vocab_size x vocab_size (어휘의 크기 사용)\n",
    "        # idx를 전달할 때 입력의 모든 단일 정수가 이 임베딩 테이블을 참조하고 뽑을 것임.\n",
    "        # 인덱스에 해당하는 임베딩 테이블의 행을 꺼내므로 여기에서는 24를 임베딩 테이블로 이동하여 24번째 행을 뽑고 43번째 행을 차단\n",
    "\n",
    "    def forward(self, idx, targets=None):\n",
    "        # idx and targets are both (B,T) tensor of intergers\n",
    "        logits = self.token_embedding_table(idx) #(B,T,C) (배치, 텐서, 채널) ex(4,8,65)\n",
    "        # 여기서 logits은 신경망 모델이 생성한 예측값임. BigramLanguageModel을 통해 얻어진 각 단어에 대응하는 다음 단어의 로짓값을 나타냄.\n",
    "        # logit이란 확률을 로그 오즈로 변환한 값으로, 신경망이 특정 클래스에 속할 원시 예측 확률을 나타내기 전의 값입니다. \n",
    "\n",
    "        if targets is None:\n",
    "            loss = None\n",
    "        else:\n",
    "            # F.cross entropy 손실 함수에 적합한 형태로 만든다.\n",
    "            B, T , C = logits.shape\n",
    "            logits = logits.view(B*T, C) # (B*T, C) (32, 65)\n",
    "            targets = targets.view(B*T)\n",
    "            loss = F.cross_entropy(logits, targets)\n",
    "\n",
    "        return logits , loss\n",
    "\n",
    "    def generate(self, idx, max_new_tokens):\n",
    "        # idx는 (B,T) 사이즈의 정수 텐서입니다.\n",
    "        for _ in range(max_new_tokens):\n",
    "            # 예측값을 얻기 위해 마지막 토큰을 사용합니다.\n",
    "            logits, loss = self(idx)\n",
    "            # 마지막 타임 스텝에 집중합니다.\n",
    "            logits = logits[:,-1,:] # (B,C)가 됩니다.\n",
    "            # 로짓을 소프트맥스로 변환합니다.\n",
    "            probs = F.softmax(logits, dim=-1) # (B,C)가 됩니다.\n",
    "            # distribution에서 샘플링합니다.\n",
    "            idx_next = torch.multinomial(probs, num_samples=1) # (B,1)\n",
    "            # 샘플링된 idx_next를 idx에 추가합니다.\n",
    "            idx = torch.cat((idx, idx_next), dim=-1)  # (B, T+1)\n",
    "        \n",
    "        return idx\n",
    "\n",
    "m = BigramLanguageModel(vocab_size)\n",
    "logits, loss = m(xb, yb)\n",
    "print(logits.shape)\n",
    "print(loss)\n",
    "\n",
    "# idx를 1x1 크기의 텐서로 0으로 초기화되며, 데이터 타입은 정수임. 언어 모델에서는 주로 시작 토큰을 나타내는데 사용한다.\n",
    "print(decode(m.generate( idx = torch.zeros((1,1), dtype=torch.long) , max_new_tokens=100)[0].tolist()))"
   ]
  },
  {
   "cell_type": "code",
   "execution_count": 70,
   "metadata": {},
   "outputs": [],
   "source": [
    "optimizer = torch.optim.Adam(m.parameters(), lr=1e-3)"
   ]
  },
  {
   "cell_type": "code",
   "execution_count": 71,
   "metadata": {},
   "outputs": [
    {
     "name": "stdout",
     "output_type": "stream",
     "text": [
      "2.572469472885132\n"
     ]
    }
   ],
   "source": [
    "batch_size = 32 # 배치 사이즈 32\n",
    "\n",
    "for steps in range(10000):\n",
    "\n",
    "    xb, yb = get_batch('train')\n",
    "\n",
    "    logits, loss = m(xb, yb)    \n",
    "    optimizer.zero_grad(set_to_none=True)   \n",
    "    loss.backward()\n",
    "    optimizer.step()\n",
    "\n",
    "print(loss.item())"
   ]
  },
  {
   "cell_type": "code",
   "execution_count": 72,
   "metadata": {},
   "outputs": [
    {
     "name": "stdout",
     "output_type": "stream",
     "text": [
      "\n",
      "Iyoteng h hasbe pave pirance\n",
      "Rie hicomyonthar's\n",
      "Plinseard ith henoure wounonthioneir thondy, y heltieiengerofo'dsssit ey\n",
      "KIN d pe wither vouprrouthercckehathe; d!\n",
      "My hind tt hinig t ouchos tes; st yo hind wotte grotonear 'so it t jod weancotha:\n",
      "h hay.JUCle n prids, r loncave w hollular s O:\n",
      "HIs; ht anjx?\n",
      "\n",
      "DUThineent.\n",
      "\n",
      "Lavinde.\n",
      "athave l.\n",
      "KEONGBUCHandspo be y,-hedarwnoddy scace, tridesar, wne'shenous s ls, theresseys\n",
      "PlorseelapinghiybHen yof GLUCEN t l-t E:\n",
      "I hisgothers w dere! ABer wotouciullle's\n"
     ]
    }
   ],
   "source": [
    "print(decode(m.generate( idx = torch.zeros((1,1), dtype=torch.long) , max_new_tokens=500)[0].tolist()))"
   ]
  },
  {
   "cell_type": "markdown",
   "metadata": {},
   "source": [
    "기존의 예측값 : Sr?qP-QWktXoL&jLDJgOLVz'RIoDqHdhsV&vLLxatjscMpwLERSPyao.qfzs$Ys$zF-w,;eEkzxjgCKFChs!iWW.ObzDnxA Ms$3 \n",
    "\n",
    "학습 후 예측값 (loss 2.5) : \n",
    "PENund rron in tenghe;\n",
    "\n",
    "CROUClereave t omy is.\n",
    "KISThos, bucesome, l.\n",
    "ENENRER:\n",
    "Wiero\n",
    "DUSe, ysoupad it"
   ]
  },
  {
   "cell_type": "markdown",
   "metadata": {},
   "source": [
    "### The mathematical trick in self attention"
   ]
  },
  {
   "cell_type": "code",
   "execution_count": 73,
   "metadata": {},
   "outputs": [
    {
     "data": {
      "text/plain": [
       "torch.Size([4, 8, 2])"
      ]
     },
     "execution_count": 73,
     "metadata": {},
     "output_type": "execute_result"
    }
   ],
   "source": [
    "torch.manual_seed(1337)\n",
    "B, T, C = 4, 8, 2 # batch time channel\n",
    "x = torch.randn(B, T, C) # (4, 8, 2)\n",
    "\n",
    "x.shape"
   ]
  },
  {
   "cell_type": "code",
   "execution_count": 74,
   "metadata": {},
   "outputs": [
    {
     "data": {
      "text/plain": [
       "tensor([[[ 0.1808, -0.0700],\n",
       "         [-0.3596, -0.9152],\n",
       "         [ 0.6258,  0.0255],\n",
       "         [ 0.9545,  0.0643],\n",
       "         [ 0.3612,  1.1679],\n",
       "         [-1.3499, -0.5102],\n",
       "         [ 0.2360, -0.2398],\n",
       "         [-0.9211,  1.5433]],\n",
       "\n",
       "        [[ 1.3488, -0.1396],\n",
       "         [ 0.2858,  0.9651],\n",
       "         [-2.0371,  0.4931],\n",
       "         [ 1.4870,  0.5910],\n",
       "         [ 0.1260, -1.5627],\n",
       "         [-1.1601, -0.3348],\n",
       "         [ 0.4478, -0.8016],\n",
       "         [ 1.5236,  2.5086]],\n",
       "\n",
       "        [[-0.6631, -0.2513],\n",
       "         [ 1.0101,  0.1215],\n",
       "         [ 0.1584,  1.1340],\n",
       "         [-1.1539, -0.2984],\n",
       "         [-0.5075, -0.9239],\n",
       "         [ 0.5467, -1.4948],\n",
       "         [-1.2057,  0.5718],\n",
       "         [-0.5974, -0.6937]],\n",
       "\n",
       "        [[ 1.6455, -0.8030],\n",
       "         [ 1.3514, -0.2759],\n",
       "         [-1.5108,  2.1048],\n",
       "         [ 2.7630, -1.7465],\n",
       "         [ 1.4516, -1.5103],\n",
       "         [ 0.8212, -0.2115],\n",
       "         [ 0.7789,  1.5333],\n",
       "         [ 1.6097, -0.4032]]])"
      ]
     },
     "execution_count": 74,
     "metadata": {},
     "output_type": "execute_result"
    }
   ],
   "source": [
    "x"
   ]
  },
  {
   "cell_type": "code",
   "execution_count": 75,
   "metadata": {},
   "outputs": [],
   "source": [
    "# 해당 시퀀스의 모든 토큰에 대해 독립적으로 모든 단일 \n",
    "\n",
    "xbow = torch.zeros((B,T,C))\n",
    "\n",
    "for b in range(B):  # 배치 순회 \n",
    "    for t in range(T): # 시퀀스 내 위치 순회\n",
    "        xprev = x[b, :t+1] # (t, C)      # 현재 위치 t와 그 이전 위치의 모든 토큰을 선택. 여기서 x[b:t+1]은 배치의 b번째 항목에서 처음부터 t+1까지의 토큰 선택하여 xprev에 저장\n",
    "        xbow[b,t] = torch.mean(xprev, 0) # 선택된 텐서에 대해 0번째 차원에 대한 평균 계산. 각 채널에 대해 현재 시간 단계까지의 모든 값의 평균을 계산함. \n",
    "\n",
    "# 결론 : xbow는 시퀀스의 각 단계에서 이전 단계들의 정보를 종합적으로 반영하는 새로운 방식"
   ]
  },
  {
   "cell_type": "code",
   "execution_count": 76,
   "metadata": {},
   "outputs": [
    {
     "data": {
      "text/plain": [
       "False"
      ]
     },
     "execution_count": 76,
     "metadata": {},
     "output_type": "execute_result"
    }
   ],
   "source": [
    "# version2\n",
    "wei = torch.tril(torch.ones(T,T)) \n",
    "wei = wei / wei.sum(1, keepdim=True)    \n",
    "xbow2 = wei @ x # (B, T, T) @ (B, T, C) -> (B, T, C)    \n",
    "\n",
    "torch.allclose(xbow, xbow2)"
   ]
  },
  {
   "cell_type": "code",
   "execution_count": 77,
   "metadata": {},
   "outputs": [
    {
     "data": {
      "text/plain": [
       "tensor([[ 0.1808, -0.0700],\n",
       "        [-0.0894, -0.4926],\n",
       "        [ 0.1490, -0.3199],\n",
       "        [ 0.3504, -0.2238],\n",
       "        [ 0.3525,  0.0545],\n",
       "        [ 0.0688, -0.0396],\n",
       "        [ 0.0927, -0.0682],\n",
       "        [-0.0341,  0.1332]])"
      ]
     },
     "execution_count": 77,
     "metadata": {},
     "output_type": "execute_result"
    }
   ],
   "source": [
    "xbow[0] \n",
    "\n",
    "# 아래의 결과에서 첫번째 행은 그대로임. \n",
    "# 두번째는 첫번째 행과 두번째 행의 평균 , 세번째는 첫번째, 두번째, 세번째 행의 평균, 네번째는 첫번째, 두번째, 세번째, 네번째 행의 평균을 나타냄.\n",
    "# 마지막 행은 모든 토큰의 평균임. \n",
    "# 하지만 비효율적임"
   ]
  },
  {
   "cell_type": "code",
   "execution_count": 78,
   "metadata": {},
   "outputs": [
    {
     "data": {
      "text/plain": [
       "tensor([[1., 0., 0.],\n",
       "        [1., 1., 0.],\n",
       "        [1., 1., 1.]])"
      ]
     },
     "execution_count": 78,
     "metadata": {},
     "output_type": "execute_result"
    }
   ],
   "source": [
    "torch.tril(torch.ones((3,3)))"
   ]
  },
  {
   "cell_type": "code",
   "execution_count": 79,
   "metadata": {},
   "outputs": [
    {
     "name": "stdout",
     "output_type": "stream",
     "text": [
      "a = \n",
      "tensor([[1.0000, 0.0000, 0.0000],\n",
      "        [0.5000, 0.5000, 0.0000],\n",
      "        [0.3333, 0.3333, 0.3333]])\n",
      "--\n",
      "b= \n",
      "tensor([[2., 7.],\n",
      "        [6., 4.],\n",
      "        [6., 5.]])\n",
      "--\n",
      "c = \n",
      "tensor([[2.0000, 7.0000],\n",
      "        [4.0000, 5.5000],\n",
      "        [4.6667, 5.3333]])\n"
     ]
    }
   ],
   "source": [
    "# 효율적인 방법 (행렬)\n",
    "\n",
    "torch.manual_seed(42)\n",
    "\n",
    "a = torch.tril(torch.ones((3,3)))\n",
    "a = a / torch.sum(a,1, keepdim=True)\n",
    "b = torch.randint(0,10,(3,2)).float()\n",
    "c = a @ b \n",
    "\n",
    "print('a = ')\n",
    "print(a)\n",
    "print('--')\n",
    "print('b= ')\n",
    "print(b)\n",
    "print('--')\n",
    "print('c = ')\n",
    "print(c)    "
   ]
  },
  {
   "cell_type": "code",
   "execution_count": 82,
   "metadata": {},
   "outputs": [
    {
     "data": {
      "text/plain": [
       "tensor([[1., 0., 0., 0., 0., 0., 0., 0.],\n",
       "        [1., 1., 0., 0., 0., 0., 0., 0.],\n",
       "        [1., 1., 1., 0., 0., 0., 0., 0.],\n",
       "        [1., 1., 1., 1., 0., 0., 0., 0.],\n",
       "        [1., 1., 1., 1., 1., 0., 0., 0.],\n",
       "        [1., 1., 1., 1., 1., 1., 0., 0.],\n",
       "        [1., 1., 1., 1., 1., 1., 1., 0.],\n",
       "        [1., 1., 1., 1., 1., 1., 1., 1.]])"
      ]
     },
     "execution_count": 82,
     "metadata": {},
     "output_type": "execute_result"
    }
   ],
   "source": [
    "tril"
   ]
  },
  {
   "cell_type": "code",
   "execution_count": 87,
   "metadata": {},
   "outputs": [
    {
     "data": {
      "text/plain": [
       "tensor([[0., -inf, -inf, -inf, -inf, -inf, -inf, -inf],\n",
       "        [0., 0., -inf, -inf, -inf, -inf, -inf, -inf],\n",
       "        [0., 0., 0., -inf, -inf, -inf, -inf, -inf],\n",
       "        [0., 0., 0., 0., -inf, -inf, -inf, -inf],\n",
       "        [0., 0., 0., 0., 0., -inf, -inf, -inf],\n",
       "        [0., 0., 0., 0., 0., 0., -inf, -inf],\n",
       "        [0., 0., 0., 0., 0., 0., 0., -inf],\n",
       "        [0., 0., 0., 0., 0., 0., 0., 0.]])"
      ]
     },
     "execution_count": 87,
     "metadata": {},
     "output_type": "execute_result"
    }
   ],
   "source": [
    "wei = torch.zeros((T,T))\n",
    "wei = wei.masked_fill(tril ==0 , float('-inf'))\n",
    "# wei = F.softmax(wei, dim=1)\n",
    "wei"
   ]
  },
  {
   "cell_type": "code",
   "execution_count": 80,
   "metadata": {},
   "outputs": [
    {
     "data": {
      "text/plain": [
       "False"
      ]
     },
     "execution_count": 80,
     "metadata": {},
     "output_type": "execute_result"
    }
   ],
   "source": [
    "#version3\n",
    "\n",
    "tril = torch.tril(torch.ones(T,T)) # 하삼각행렬\n",
    "wei = torch.zeros((T,T)) # (8,8)\n",
    "wei = wei.masked_fill(tril ==0 , float('-inf')) # 마스크를 사용하여 하삼각행렬의 0을 -inf로 채움   \n",
    "wei = F.softmax(wei, dim=1) # (8,8)\n",
    "xbow3 = wei @ x # (B, T, T) @ (B, T, C) -> (B, T, C)\n",
    "torch.allclose(xbow, xbow3)"
   ]
  },
  {
   "cell_type": "code",
   "execution_count": null,
   "metadata": {},
   "outputs": [],
   "source": []
  },
  {
   "cell_type": "code",
   "execution_count": null,
   "metadata": {},
   "outputs": [
    {
     "data": {
      "text/plain": [
       "(tensor([[ 0.1808, -0.0700],\n",
       "         [-0.0894, -0.4926],\n",
       "         [ 0.1490, -0.3199],\n",
       "         [ 0.3504, -0.2238],\n",
       "         [ 0.3525,  0.0545],\n",
       "         [ 0.0688, -0.0396],\n",
       "         [ 0.0927, -0.0682],\n",
       "         [-0.0341,  0.1332]]),\n",
       " tensor([[ 0.1808, -0.0700],\n",
       "         [-0.0894, -0.4926],\n",
       "         [ 0.1490, -0.3199],\n",
       "         [ 0.3504, -0.2238],\n",
       "         [ 0.3525,  0.0545],\n",
       "         [ 0.0688, -0.0396],\n",
       "         [ 0.0927, -0.0682],\n",
       "         [-0.0341,  0.1332]]))"
      ]
     },
     "metadata": {},
     "output_type": "display_data"
    }
   ],
   "source": [
    "xbow[0] , xbow2[0]"
   ]
  },
  {
   "cell_type": "markdown",
   "metadata": {},
   "source": [
    "## self attention"
   ]
  },
  {
   "cell_type": "code",
   "execution_count": 97,
   "metadata": {},
   "outputs": [
    {
     "data": {
      "text/plain": [
       "torch.Size([4, 8, 16])"
      ]
     },
     "execution_count": 97,
     "metadata": {},
     "output_type": "execute_result"
    }
   ],
   "source": [
    "# v4 self-attention\n",
    "# self-attention은 각 위치의 모든 단일 노드 또는 모든 단일 토큰은 두 개의 벡터를 방출하고 쿼리와 키를 방출합니다.\n",
    "# 쿼리 벡터는 '내가 찾는 것' 이고 키 벡터는 '내가 포함하는 것' 입니다. \n",
    "# 쿼리와 키 벡터는 내적을 통해 유사도를 계산하고 이를 소프트맥스로 변환하여 가중치를 얻습니다.\n",
    "# 이제 시퀀스에서 이러한 토큰 간의 유사성을 얻는 방법은 기본적으로 점곱(dot product)를 수행하는 것입니다.\n",
    "\n",
    "# torch.tril은 하삼각행렬로 만들어서 미래의 정보를 차단함. 시퀀스 생성 작업에서 입력 시퀀스의 각 위치가 그 위치와 이후 위치의 정보만 사용하도록 제한하기 위해 사용.\n",
    "\n",
    "torch.manual_seed(1337)\n",
    "\n",
    "B,T,C = 4,8,32\n",
    "x = torch.randn(B,T,C) # (4,8,32)   \n",
    "\n",
    "head_size = 16\n",
    "key = nn.Linear(C, head_size, bias=False) # (32, 16)\n",
    "query = nn.Linear(C, head_size, bias=False) # (32, 16)\n",
    "value = nn.Linear(C, head_size, bias=False)\n",
    "k = key(x)   # (B, T, 16)\n",
    "q = query(x) # (B, T, 16)\n",
    "wei = q @ k.transpose(-2, -1) # (B, T, 16) @ (B, 16, T) -> (B, T, T)\n",
    "\n",
    "tril = torch.tril(torch.ones(T,T)) # 하삼각행렬\n",
    "# wei = torch.zeros(T,T) # (8,8)\n",
    "wei = wei.masked_fill(tril ==0 , float('-inf')) # 마스크를 사용하여 하삼각행렬의 0을 -inf로 채움\n",
    "wei = F.softmax(wei, dim=-1) # (8,8)\n",
    "\n",
    "v = value(x)\n",
    "out = wei @ v\n",
    "# out = wei @ x \n",
    "\n",
    "out.shape"
   ]
  },
  {
   "cell_type": "code",
   "execution_count": 99,
   "metadata": {},
   "outputs": [
    {
     "data": {
      "text/plain": [
       "tensor([[1.0000, 0.0000, 0.0000, 0.0000, 0.0000, 0.0000, 0.0000, 0.0000],\n",
       "        [0.1574, 0.8426, 0.0000, 0.0000, 0.0000, 0.0000, 0.0000, 0.0000],\n",
       "        [0.2088, 0.1646, 0.6266, 0.0000, 0.0000, 0.0000, 0.0000, 0.0000],\n",
       "        [0.5792, 0.1187, 0.1889, 0.1131, 0.0000, 0.0000, 0.0000, 0.0000],\n",
       "        [0.0294, 0.1052, 0.0469, 0.0276, 0.7909, 0.0000, 0.0000, 0.0000],\n",
       "        [0.0176, 0.2689, 0.0215, 0.0089, 0.6812, 0.0019, 0.0000, 0.0000],\n",
       "        [0.1691, 0.4066, 0.0438, 0.0416, 0.1048, 0.2012, 0.0329, 0.0000],\n",
       "        [0.0210, 0.0843, 0.0555, 0.2297, 0.0573, 0.0709, 0.2423, 0.2391]],\n",
       "       grad_fn=<SelectBackward0>)"
      ]
     },
     "execution_count": 99,
     "metadata": {},
     "output_type": "execute_result"
    }
   ],
   "source": [
    "wei[0]"
   ]
  },
  {
   "cell_type": "markdown",
   "metadata": {},
   "source": [
    "### Layer norm\n",
    "\n",
    "- Layer normalization 은 batch norm과 매우 비슷합니다. "
   ]
  },
  {
   "cell_type": "code",
   "execution_count": 3,
   "metadata": {},
   "outputs": [
    {
     "data": {
      "text/plain": [
       "torch.Size([32, 100])"
      ]
     },
     "execution_count": 3,
     "metadata": {},
     "output_type": "execute_result"
    }
   ],
   "source": [
    "class LayerNorm1d: # (used to be BatchNorm1d)\n",
    "\n",
    "  def __init__(self, dim, eps=1e-5, momentum=0.1):\n",
    "    self.eps = eps\n",
    "    self.gamma = torch.ones(dim)\n",
    "    self.beta = torch.zeros(dim)\n",
    "\n",
    "  def __call__(self, x):\n",
    "    # calculate the forward pass\n",
    "    xmean = x.mean(1, keepdim=True) # batch mean\n",
    "    xvar = x.var(1, keepdim=True) # batch variance\n",
    "    xhat = (x - xmean) / torch.sqrt(xvar + self.eps) # normalize to unit variance\n",
    "    self.out = self.gamma * xhat + self.beta\n",
    "    return self.out\n",
    "\n",
    "  def parameters(self):\n",
    "    return [self.gamma, self.beta]\n",
    "\n",
    "torch.manual_seed(1337)\n",
    "module = LayerNorm1d(100)\n",
    "x = torch.randn(32, 100) # batch size 32 of 100-dimensional vectors\n",
    "x = module(x)\n",
    "x.shape"
   ]
  },
  {
   "cell_type": "markdown",
   "metadata": {},
   "source": [
    "배치 정규화 (Batch Normalization)\n",
    "열 단위 정규화: 배치 정규화는 주로 신경망의 각 층에서 활성화 출력의 특성 차원에 대해 작동합니다. 각 특성(또는 채널)에 대한 평균과 분산을 계산할 때, 현재 배치 내의 모든 샘플(데이터 포인트)을 고려합니다. 즉, 같은 특성(열)에 속하는 모든 데이터 포인트들의 평균과 분산을 계산하여 각 특성을 정규화합니다. 이 방식은 특히 컨볼루션 네트워크에서 각 채널별로 적용되며, 데이터의 배치 크기에 의존적입니다.\n",
    "\n",
    "\n",
    "레이어 정규화 (Layer Normalization)\n",
    "행 단위 정규화: 반면, 레이어 정규화는 각 데이터 샘플 내에서 작동합니다. 즉, 하나의 데이터 포인트 내의 모든 특성(또는 시간 단계)에 대해 평균과 분산을 계산하여 정규화를 수행합니다. 이는 모든 특성들이 동일한 스케일을 가지도록 만들며, 각 데이터 포인트(행)가 독립적으로 정규화됩니다. 레이어 정규화는 배치 크기와 무관하게 일관된 성능을 제공하며, 특히 시퀀스 데이터를 다루는 RNN이나 Transformer 같은 모델에 유용합니다."
   ]
  },
  {
   "cell_type": "markdown",
   "metadata": {},
   "source": [
    "아래의 결과를 보면 Batch norm은 열 단위로 정규화가 진행되고 Layer norm은 행 단위로 정규화가 진행된다."
   ]
  },
  {
   "cell_type": "code",
   "execution_count": 4,
   "metadata": {},
   "outputs": [
    {
     "data": {
      "text/plain": [
       "(tensor(0.1469), tensor(0.8803))"
      ]
     },
     "execution_count": 4,
     "metadata": {},
     "output_type": "execute_result"
    }
   ],
   "source": [
    "x[:,0].mean(), x[:,0].std() # mean,ㅁstd of one feature across all batch inputs"
   ]
  },
  {
   "cell_type": "code",
   "execution_count": 5,
   "metadata": {},
   "outputs": [
    {
     "data": {
      "text/plain": [
       "(tensor(-3.5763e-09), tensor(1.0000))"
      ]
     },
     "execution_count": 5,
     "metadata": {},
     "output_type": "execute_result"
    }
   ],
   "source": [
    "x[0,:].mean(), x[0,:].std() # mean,std of a single input from the batch, of its features"
   ]
  },
  {
   "cell_type": "code",
   "execution_count": 6,
   "metadata": {},
   "outputs": [],
   "source": [
    "# French to English translation example:\n",
    "\n",
    "# <--------- ENCODE ------------------><--------------- DECODE ----------------->\n",
    "# les réseaux de neurones sont géniaux! <START> neural networks are awesome!<END>"
   ]
  },
  {
   "cell_type": "code",
   "execution_count": 7,
   "metadata": {},
   "outputs": [
    {
     "name": "stdout",
     "output_type": "stream",
     "text": [
      "0.209729 M parameters\n",
      "step 0: train loss 4.4116, val loss 4.4022\n",
      "step 100: train loss 2.6568, val loss 2.6670\n",
      "step 200: train loss 2.5089, val loss 2.5057\n",
      "step 300: train loss 2.4197, val loss 2.4335\n",
      "step 400: train loss 2.3502, val loss 2.3564\n",
      "step 500: train loss 2.2965, val loss 2.3130\n",
      "step 600: train loss 2.2410, val loss 2.2500\n",
      "step 700: train loss 2.2059, val loss 2.2189\n",
      "step 800: train loss 2.1640, val loss 2.1874\n",
      "step 900: train loss 2.1244, val loss 2.1510\n",
      "step 1000: train loss 2.1021, val loss 2.1285\n",
      "step 1100: train loss 2.0704, val loss 2.1193\n",
      "step 1200: train loss 2.0383, val loss 2.0796\n",
      "step 1300: train loss 2.0248, val loss 2.0645\n",
      "step 1400: train loss 1.9927, val loss 2.0370\n",
      "step 1500: train loss 1.9688, val loss 2.0293\n",
      "step 1600: train loss 1.9623, val loss 2.0480\n",
      "step 1700: train loss 1.9411, val loss 2.0145\n",
      "step 1800: train loss 1.9066, val loss 1.9942\n",
      "step 1900: train loss 1.9093, val loss 1.9899\n",
      "step 2000: train loss 1.8826, val loss 1.9942\n",
      "step 2100: train loss 1.8703, val loss 1.9742\n",
      "step 2200: train loss 1.8597, val loss 1.9642\n",
      "step 2300: train loss 1.8544, val loss 1.9535\n",
      "step 2400: train loss 1.8396, val loss 1.9427\n",
      "step 2500: train loss 1.8132, val loss 1.9419\n",
      "step 2600: train loss 1.8276, val loss 1.9400\n",
      "step 2700: train loss 1.8111, val loss 1.9346\n",
      "step 2800: train loss 1.8037, val loss 1.9219\n",
      "step 2900: train loss 1.8036, val loss 1.9274\n",
      "step 3000: train loss 1.7929, val loss 1.9204\n",
      "step 3100: train loss 1.7671, val loss 1.9155\n",
      "step 3200: train loss 1.7501, val loss 1.9100\n",
      "step 3300: train loss 1.7544, val loss 1.9046\n",
      "step 3400: train loss 1.7530, val loss 1.8949\n",
      "step 3500: train loss 1.7382, val loss 1.8968\n",
      "step 3600: train loss 1.7254, val loss 1.8922\n",
      "step 3700: train loss 1.7258, val loss 1.8815\n",
      "step 3800: train loss 1.7193, val loss 1.8937\n",
      "step 3900: train loss 1.7225, val loss 1.8753\n",
      "step 4000: train loss 1.7170, val loss 1.8701\n",
      "step 4100: train loss 1.7096, val loss 1.8740\n",
      "step 4200: train loss 1.7039, val loss 1.8639\n",
      "step 4300: train loss 1.7000, val loss 1.8519\n",
      "step 4400: train loss 1.7051, val loss 1.8683\n",
      "step 4500: train loss 1.6912, val loss 1.8506\n",
      "step 4600: train loss 1.6873, val loss 1.8361\n",
      "step 4700: train loss 1.6863, val loss 1.8505\n",
      "step 4800: train loss 1.6678, val loss 1.8520\n",
      "step 4900: train loss 1.6715, val loss 1.8399\n",
      "step 4999: train loss 1.6617, val loss 1.8248\n",
      "\n",
      "Flife.\n",
      "\n",
      "SENBONEL:\n",
      "\n",
      "KING you bewiter:\n",
      "Why thou hocse with begatar TI sea it\n",
      "What satell in rone to the somer a edom of Murder.\n",
      "\n",
      "KING RIVead LIrk, He's kneing die,\n",
      "Oie these is news it cy as explain'd give well and Burry\n",
      "Firse facge\n",
      "For wilth a setcread up soom\n",
      "Rome; must my devoury may clove, one, nose do spost I vois I am were;\n",
      "Nay, twe prove my my lord; and not broatied in may.\n",
      "\n",
      "ROMEO:\n",
      "wife the Onder, to our bewIs's your.\n",
      "\n",
      "DUKE VINCENTIO:\n",
      "In to would good, fawour,\n",
      "As cousinst: I somet, those make me,\n",
      "And flie hild you sure which to-bise no contred to be thre I had be,\n",
      "Not a day and singpmending him, say may to her ope.\n",
      "\n",
      "ANVOLUM:\n",
      "At, well you. BART:\n",
      "That I beajl not there kings? The weak you,\n",
      "Go coursein to shall her speaken:\n",
      "And thus insuits thou thrones! my troad in to id-en shall for the promile.\n",
      "\n",
      "KING HENRY VI:\n",
      "Towe the withip:\n",
      "Friee son!\n",
      "Thee will, contate lip me welp a fasire,\n",
      "Live back he in all that the soful.\n",
      "You as what, but that I git.\n",
      "But contrens\n",
      "in is flebying my bred have noby.\n",
      "Go and neews?\n",
      "\n",
      "GLOUFIDIUS:\n",
      "With nother king:\n",
      "Lant, and to you will beeing\n",
      "But the fivew 'twis hanges fortune\n",
      "O forts stes my bingd joy to his would dost\n",
      "Frough on distrify will your soul.\n",
      "\n",
      "VINIUS:\n",
      "What do tlub\n",
      "Must that gentrant, which my hip,\n",
      "That make you gettly of this seeess,\n",
      "I Tostrunes his seels and in toge,\n",
      "He I shalk I thou contres, ned while?\n",
      "\n",
      "BUCKINGHAM:\n",
      "What leave you husave bein;\n",
      "Full't, you she beam news his cruty carset,\n",
      "Or save infillife a thas saste? to your good from wit-be in his is\n",
      "Hard's dead bechanome mon the orter podes'd was busweet.\n",
      "\n",
      "CORIOLANUS:\n",
      "Lo, where 'twread.\n",
      "\n",
      "TROMEONA:\n",
      "Is you grace that aze houth this sele yourders?\n",
      "\n",
      "POT OXfeel:\n",
      "She baid sappurt, conted, so, good so that\n",
      "se the dom sorn: he, father Becklems.\n",
      "\n",
      "Nurse:\n",
      "As hou I teass in I know tould have earth a eys.\n",
      "\n",
      "GLOUCESTER:\n",
      "Unswer purtant:\n",
      "As one thus sold was this righanneds flase thou\n",
      "be to broy that in the most, every hurself.\n",
      "Ouon the forth them fult, then I Luit?\n",
      "\n",
      "HORY PARD IV:\n",
      "What was wha\n"
     ]
    }
   ],
   "source": [
    "import torch\n",
    "import torch.nn as nn\n",
    "from torch.nn import functional as F\n",
    "\n",
    "# hyperparameters\n",
    "batch_size = 16 # how many independent sequences will we process in parallel?\n",
    "block_size = 32 # what is the maximum context length for predictions?\n",
    "max_iters = 5000\n",
    "eval_interval = 100\n",
    "learning_rate = 1e-3\n",
    "device = 'cuda' if torch.cuda.is_available() else 'cpu'\n",
    "eval_iters = 200\n",
    "n_embd = 64\n",
    "n_head = 4\n",
    "n_layer = 4\n",
    "dropout = 0.0\n",
    "# ------------\n",
    "\n",
    "torch.manual_seed(1337)\n",
    "\n",
    "# wget https://raw.githubusercontent.com/karpathy/char-rnn/master/data/tinyshakespeare/input.txt\n",
    "with open('input.txt', 'r', encoding='utf-8') as f:\n",
    "    text = f.read()\n",
    "\n",
    "# here are all the unique characters that occur in this text\n",
    "chars = sorted(list(set(text)))\n",
    "vocab_size = len(chars)\n",
    "# create a mapping from characters to integers\n",
    "stoi = { ch:i for i,ch in enumerate(chars) }\n",
    "itos = { i:ch for i,ch in enumerate(chars) }\n",
    "encode = lambda s: [stoi[c] for c in s] # encoder: take a string, output a list of integers\n",
    "decode = lambda l: ''.join([itos[i] for i in l]) # decoder: take a list of integers, output a string\n",
    "\n",
    "# Train and test splits\n",
    "data = torch.tensor(encode(text), dtype=torch.long)\n",
    "n = int(0.9*len(data)) # first 90% will be train, rest val\n",
    "train_data = data[:n]\n",
    "val_data = data[n:]\n",
    "\n",
    "# data loading\n",
    "def get_batch(split):\n",
    "    # generate a small batch of data of inputs x and targets y\n",
    "    data = train_data if split == 'train' else val_data\n",
    "    ix = torch.randint(len(data) - block_size, (batch_size,))\n",
    "    x = torch.stack([data[i:i+block_size] for i in ix])\n",
    "    y = torch.stack([data[i+1:i+block_size+1] for i in ix])\n",
    "    x, y = x.to(device), y.to(device)\n",
    "    return x, y\n",
    "\n",
    "@torch.no_grad()\n",
    "def estimate_loss():\n",
    "    out = {}\n",
    "    model.eval()\n",
    "    for split in ['train', 'val']:\n",
    "        losses = torch.zeros(eval_iters)\n",
    "        for k in range(eval_iters):\n",
    "            X, Y = get_batch(split)\n",
    "            logits, loss = model(X, Y)\n",
    "            losses[k] = loss.item()\n",
    "        out[split] = losses.mean()\n",
    "    model.train()\n",
    "    return out\n",
    "\n",
    "class Head(nn.Module):\n",
    "    \"\"\" one head of self-attention \"\"\"\n",
    "\n",
    "    def __init__(self, head_size):\n",
    "        super().__init__()\n",
    "        self.key = nn.Linear(n_embd, head_size, bias=False)\n",
    "        self.query = nn.Linear(n_embd, head_size, bias=False)\n",
    "        self.value = nn.Linear(n_embd, head_size, bias=False)\n",
    "        self.register_buffer('tril', torch.tril(torch.ones(block_size, block_size)))\n",
    "\n",
    "        self.dropout = nn.Dropout(dropout)\n",
    "\n",
    "    def forward(self, x):\n",
    "        B,T,C = x.shape\n",
    "        k = self.key(x)   # (B,T,C)\n",
    "        q = self.query(x) # (B,T,C)\n",
    "        # compute attention scores (\"affinities\")\n",
    "        wei = q @ k.transpose(-2,-1) * C**-0.5 # (B, T, C) @ (B, C, T) -> (B, T, T)\n",
    "        wei = wei.masked_fill(self.tril[:T, :T] == 0, float('-inf')) # (B, T, T)\n",
    "        wei = F.softmax(wei, dim=-1) # (B, T, T)\n",
    "        wei = self.dropout(wei)\n",
    "        # perform the weighted aggregation of the values\n",
    "        v = self.value(x) # (B,T,C)\n",
    "        out = wei @ v # (B, T, T) @ (B, T, C) -> (B, T, C)\n",
    "        return out\n",
    "\n",
    "class MultiHeadAttention(nn.Module):\n",
    "    \"\"\" multiple heads of self-attention in parallel \"\"\"\n",
    "\n",
    "    def __init__(self, num_heads, head_size):\n",
    "        super().__init__()\n",
    "        self.heads = nn.ModuleList([Head(head_size) for _ in range(num_heads)])\n",
    "        self.proj = nn.Linear(n_embd, n_embd)\n",
    "        self.dropout = nn.Dropout(dropout)\n",
    "\n",
    "    def forward(self, x):\n",
    "        out = torch.cat([h(x) for h in self.heads], dim=-1)\n",
    "        out = self.dropout(self.proj(out))\n",
    "        return out\n",
    "\n",
    "class FeedFoward(nn.Module):\n",
    "    \"\"\" a simple linear layer followed by a non-linearity \"\"\"\n",
    "\n",
    "    def __init__(self, n_embd):\n",
    "        super().__init__()\n",
    "        self.net = nn.Sequential(\n",
    "            nn.Linear(n_embd, 4 * n_embd),\n",
    "            nn.ReLU(),\n",
    "            nn.Linear(4 * n_embd, n_embd),\n",
    "            nn.Dropout(dropout),\n",
    "        )\n",
    "\n",
    "    def forward(self, x):\n",
    "        return self.net(x)\n",
    "\n",
    "class Block(nn.Module):\n",
    "    \"\"\" Transformer block: communication followed by computation \"\"\"\n",
    "\n",
    "    def __init__(self, n_embd, n_head):\n",
    "        # n_embd: embedding dimension, n_head: the number of heads we'd like\n",
    "        super().__init__()\n",
    "        head_size = n_embd // n_head\n",
    "        self.sa = MultiHeadAttention(n_head, head_size)\n",
    "        self.ffwd = FeedFoward(n_embd)\n",
    "        self.ln1 = nn.LayerNorm(n_embd)\n",
    "        self.ln2 = nn.LayerNorm(n_embd)\n",
    "\n",
    "    def forward(self, x):\n",
    "        x = x + self.sa(self.ln1(x))\n",
    "        x = x + self.ffwd(self.ln2(x))\n",
    "        return x\n",
    "\n",
    "# super simple bigram model\n",
    "class BigramLanguageModel(nn.Module):\n",
    "\n",
    "    def __init__(self):\n",
    "        super().__init__()\n",
    "        # each token directly reads off the logits for the next token from a lookup table\n",
    "        self.token_embedding_table = nn.Embedding(vocab_size, n_embd)\n",
    "        self.position_embedding_table = nn.Embedding(block_size, n_embd)\n",
    "        self.blocks = nn.Sequential(*[Block(n_embd, n_head=n_head) for _ in range(n_layer)])\n",
    "        self.ln_f = nn.LayerNorm(n_embd) # final layer norm\n",
    "        self.lm_head = nn.Linear(n_embd, vocab_size)\n",
    "\n",
    "    def forward(self, idx, targets=None):\n",
    "        B, T = idx.shape\n",
    "\n",
    "        # idx and targets are both (B,T) tensor of integers\n",
    "        tok_emb = self.token_embedding_table(idx) # (B,T,C)\n",
    "        pos_emb = self.position_embedding_table(torch.arange(T, device=device)) # (T,C)\n",
    "        x = tok_emb + pos_emb # (B,T,C)\n",
    "        x = self.blocks(x) # (B,T,C)\n",
    "        x = self.ln_f(x) # (B,T,C)\n",
    "        logits = self.lm_head(x) # (B,T,vocab_size)\n",
    "\n",
    "        if targets is None:\n",
    "            loss = None\n",
    "        else:\n",
    "            B, T, C = logits.shape\n",
    "            logits = logits.view(B*T, C)\n",
    "            targets = targets.view(B*T)\n",
    "            loss = F.cross_entropy(logits, targets)\n",
    "\n",
    "        return logits, loss\n",
    "\n",
    "    def generate(self, idx, max_new_tokens):\n",
    "        # idx is (B, T) array of indices in the current context\n",
    "        for _ in range(max_new_tokens):\n",
    "            # crop idx to the last block_size tokens\n",
    "            idx_cond = idx[:, -block_size:]\n",
    "            # get the predictions\n",
    "            logits, loss = self(idx_cond)\n",
    "            # focus only on the last time step\n",
    "            logits = logits[:, -1, :] # becomes (B, C)\n",
    "            # apply softmax to get probabilities\n",
    "            probs = F.softmax(logits, dim=-1) # (B, C)\n",
    "            # sample from the distribution\n",
    "            idx_next = torch.multinomial(probs, num_samples=1) # (B, 1)\n",
    "            # append sampled index to the running sequence\n",
    "            idx = torch.cat((idx, idx_next), dim=1) # (B, T+1)\n",
    "        return idx\n",
    "\n",
    "model = BigramLanguageModel()\n",
    "m = model.to(device)\n",
    "# print the number of parameters in the model\n",
    "print(sum(p.numel() for p in m.parameters())/1e6, 'M parameters')\n",
    "\n",
    "# create a PyTorch optimizer\n",
    "optimizer = torch.optim.AdamW(model.parameters(), lr=learning_rate)\n",
    "\n",
    "for iter in range(max_iters):\n",
    "\n",
    "    # every once in a while evaluate the loss on train and val sets\n",
    "    if iter % eval_interval == 0 or iter == max_iters - 1:\n",
    "        losses = estimate_loss()\n",
    "        print(f\"step {iter}: train loss {losses['train']:.4f}, val loss {losses['val']:.4f}\")\n",
    "\n",
    "    # sample a batch of data\n",
    "    xb, yb = get_batch('train')\n",
    "\n",
    "    # evaluate the loss\n",
    "    logits, loss = model(xb, yb)\n",
    "    optimizer.zero_grad(set_to_none=True)\n",
    "    loss.backward()\n",
    "    optimizer.step()\n",
    "\n",
    "# generate from the model\n",
    "context = torch.zeros((1, 1), dtype=torch.long, device=device)\n",
    "print(decode(m.generate(context, max_new_tokens=2000)[0].tolist()))"
   ]
  },
  {
   "cell_type": "code",
   "execution_count": null,
   "metadata": {},
   "outputs": [],
   "source": []
  }
 ],
 "metadata": {
  "kernelspec": {
   "display_name": "TorchEnv",
   "language": "python",
   "name": "python3"
  },
  "language_info": {
   "codemirror_mode": {
    "name": "ipython",
    "version": 3
   },
   "file_extension": ".py",
   "mimetype": "text/x-python",
   "name": "python",
   "nbconvert_exporter": "python",
   "pygments_lexer": "ipython3",
   "version": "3.11.4"
  }
 },
 "nbformat": 4,
 "nbformat_minor": 2
}
